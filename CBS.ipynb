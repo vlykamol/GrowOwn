{
  "nbformat": 4,
  "nbformat_minor": 0,
  "metadata": {
    "colab": {
      "provenance": [],
      "authorship_tag": "ABX9TyNOYbkDxeDdRww7vOdeGKmv",
      "include_colab_link": true
    },
    "kernelspec": {
      "name": "python3",
      "display_name": "Python 3"
    },
    "language_info": {
      "name": "python"
    }
  },
  "cells": [
    {
      "cell_type": "markdown",
      "metadata": {
        "id": "view-in-github",
        "colab_type": "text"
      },
      "source": [
        "<a href=\"https://colab.research.google.com/github/vlykamol/GrowOwn/blob/main/CBS.ipynb\" target=\"_parent\"><img src=\"https://colab.research.google.com/assets/colab-badge.svg\" alt=\"Open In Colab\"/></a>"
      ]
    },
    {
      "cell_type": "code",
      "source": [
        "grid = []\n",
        "m, n = 0, 0"
      ],
      "metadata": {
        "id": "BfavA5P_S3lV"
      },
      "execution_count": null,
      "outputs": []
    },
    {
      "cell_type": "code",
      "source": [
        "# taking grid input\n",
        "def gridInput():\n",
        "    try:\n",
        "        # Get the dimensions of the grid (m x n)\n",
        "        m = int(input(\"Enter the number of rows (m): \"))\n",
        "        n = int(input(\"Enter the number of columns (n): \"))\n",
        "\n",
        "        # Initialize an empty grid\n",
        "        grid = []\n",
        "\n",
        "        # Loop to get the grid elements\n",
        "        for i in range(m):\n",
        "            row = input(f\"Enter row {i + 1} (use 0 for empty, 1 for obstacle, separated by spaces): \").split()\n",
        "            if len(row) != n:\n",
        "                raise ValueError(\"Invalid input! Please enter the correct number of elements for each row.\")\n",
        "            row = [int(cell) for cell in row]\n",
        "            grid.append(row)\n",
        "\n",
        "        # Return the grid\n",
        "        return grid, m, n\n",
        "\n",
        "    except ValueError as e:\n",
        "        print(f\"Error: {e}\")\n",
        "        return None\n",
        "\n",
        "grid, m, n = gridInput()"
      ],
      "metadata": {
        "id": "7XIvISaNS5z1"
      },
      "execution_count": null,
      "outputs": []
    },
    {
      "cell_type": "code",
      "source": [
        "#printing grid\n",
        "if grid:\n",
        "    print(\"Grid:\")\n",
        "    for row in grid:\n",
        "        print(row)"
      ],
      "metadata": {
        "id": "5y1U53x1S8qc"
      },
      "execution_count": null,
      "outputs": []
    },
    {
      "cell_type": "markdown",
      "source": [
        "# all the definations"
      ],
      "metadata": {
        "id": "bHC5_zsRTBTw"
      }
    },
    {
      "cell_type": "code",
      "source": [
        "class Location:\n",
        "      def __init__(self, x, y):\n",
        "            self.x = x\n",
        "            self.y = y\n",
        "      def __eq__(self, other):\n",
        "            return self.x == other.x and self.y == other.y\n",
        "      def __str__(self):\n",
        "            return f\"at {self.x}, {self.y}\"\n",
        "      def __hash__(self):\n",
        "            return hash(str(self.x) + str(self.y))\n",
        "\n",
        "class Constraint():\n",
        "      def __init__(self, time, location):\n",
        "            self.time = time\n",
        "            self.location = location\n",
        "      def __eq__(self, other):\n",
        "            return self.time == other.time and self.location == other.location\n",
        "      def __hash__(self):\n",
        "            return hash(str(self.time) + str(self.location.x) + str(self.location.y))\n",
        "\n",
        "class State():\n",
        "      def __init__(self, time, location):\n",
        "            self.time = time\n",
        "            self.location = location\n",
        "      def __eq__(self, other):\n",
        "            return self.time == other.time and self.location == other.location\n",
        "      def __hash__(self):\n",
        "            return hash(str(self.time)+str(self.location))\n",
        "      def __str__(self):\n",
        "        return f\"state(time={self.time}, location={self.location})\"\n"
      ],
      "metadata": {
        "id": "sXs2jZiPTDlv"
      },
      "execution_count": null,
      "outputs": []
    },
    {
      "cell_type": "code",
      "source": [
        "agents = {}\n",
        "a = 0\n",
        "# taking agents start and end locations\n",
        "def agentInput():\n",
        "  try:\n",
        "    # get number of agents (a)\n",
        "    a = int(input(\"Enter the number of agents\"))\n",
        "\n",
        "    # Loop to get the agents\n",
        "    for i in range(a):\n",
        "      startX, startY  = input(f\"Enter agent {i + 1} start location (row, col space seprated): \").split()\n",
        "      startX = int(startX)\n",
        "      startY = int(startY)\n",
        "      if startX >= m or startX < 0 or startY >= n or startY < 0 :\n",
        "        raise ValueError(f\"Invalid input! Please enter the correct start location for agent {i + 1}.\")\n",
        "      endX, endY  = input(f\"Enter agent {i + 1} end location (row, col space seprated): \").split()\n",
        "      endX = int(endX)\n",
        "      endY = int(endY)\n",
        "      if endX >= m or endX < 0 or endY >= n or endY < 0 :\n",
        "        raise ValueError(f\"Invalid input! Please enter the correct end location for agent {i + 1}.\")\n",
        "      start = Location(startX,startY)\n",
        "      end = Location(endX,endY)\n",
        "      agents[f\"R{i + 1}\"] = {\"start\" : start, \"end\" : end}\n",
        "    return a\n",
        "\n",
        "  except ValueError as e:\n",
        "    print(f\"Error: {e}\")\n",
        "    return None\n",
        "\n",
        "a = agentInput()"
      ],
      "metadata": {
        "id": "_pD7d8RATHMb"
      },
      "execution_count": null,
      "outputs": []
    },
    {
      "cell_type": "code",
      "source": [
        "packages = {}\n",
        "# taking packages start and end locations\n",
        "def packageInput():\n",
        "  try:\n",
        "    # Loop to get the packages\n",
        "    for i in range(a):\n",
        "      startX, startY  = input(f\"Enter package {i + 1} start location (row, col space seprated): \").split()\n",
        "      startX = int(startX)\n",
        "      startY = int(startY)\n",
        "      if startX >= m or startX < 0 or startY >= n or startY < 0 :\n",
        "        raise ValueError(f\"Invalid input! Please enter the correct start location for package {i + 1}.\")\n",
        "      endX, endY  = input(f\"Enter package {i + 1} end location (row, col space seprated): \").split()\n",
        "      endX = int(endX)\n",
        "      endY = int(endY)\n",
        "      if endX >= m or endX < 0 or endY >= n or endY < 0 :\n",
        "        raise ValueError(f\"Invalid input! Please enter the correct end location for package {i + 1}.\")\n",
        "      start = Location(startX, startY)\n",
        "      end = Location(endX, endY)\n",
        "      packages[f\"P{i + 1}\"] = {\"start\" : start, \"end\" : end}\n",
        "\n",
        "    return packages\n",
        "\n",
        "  except ValueError as e:\n",
        "    print(f\"Error: {e}\")\n",
        "    return None\n",
        "\n",
        "packageInput()"
      ],
      "metadata": {
        "id": "V_BZC-nLTJNR"
      },
      "execution_count": null,
      "outputs": []
    },
    {
      "cell_type": "code",
      "source": [
        "_grid = [row[:] for row in grid]\n",
        "for i in agents:\n",
        "  _a = agents[i]\n",
        "  start = _a['start']\n",
        "  end = _a['end']\n",
        "  _grid[start.x][start.y] = i\n",
        "  _grid[end.x][end.y] = f\"E{i}\"\n",
        "  print(i, f\"starts {start}\", f\"ends {end}\")\n",
        "for i in packages:\n",
        "  _a = packages[i]\n",
        "  start = _a['start']\n",
        "  end = _a['end']\n",
        "  _grid[start.x][start.y] = i\n",
        "  _grid[end.x][end.y] = f\"D{i}\"\n",
        "  print(i, f\"starts {start}\", f\"ends {end}\")"
      ],
      "metadata": {
        "id": "PBrRQHAoTK_O"
      },
      "execution_count": null,
      "outputs": []
    },
    {
      "cell_type": "code",
      "source": [
        "for row in _grid:\n",
        "  print(row)"
      ],
      "metadata": {
        "id": "YKA0UqoxTNKU"
      },
      "execution_count": null,
      "outputs": []
    },
    {
      "cell_type": "code",
      "source": [
        "def valid_state(location):\n",
        "  return location.x >= 0 and location.x < m and location.y >= 0 and location.y < n and grid[location.x][location.y] != 1\n",
        "\n",
        "\n",
        "def get_successors(current_node):\n",
        "  print(\"current node\", current_node, agents)\n",
        "  neighbors = []\n",
        "  time = current_node.time\n",
        "  location = current_node.location\n",
        "  # Wait action\n",
        "  n = Constraint(time + 1, location)\n",
        "  if valid_state(location):\n",
        "      neighbors.append(n)\n",
        "  # Up action\n",
        "  n = Constraint(time + 1, Location(location.x, location.y+1))\n",
        "  if valid_state(n):\n",
        "      neighbors.append(n)\n",
        "  # Down action\n",
        "  n = Constraint(time + 1, Location(location.x, location.y-1))\n",
        "  if valid_state(n):\n",
        "      neighbors.append(n)\n",
        "  # Left action\n",
        "  n = Constraint(time + 1, Location(location.x-1, location.y))\n",
        "  if valid_state(n):\n",
        "      neighbors.append(n)\n",
        "  # Right action\n",
        "  n = Constraint(time + 1, Location(location.x+1, location.y))\n",
        "  if valid_state(n):\n",
        "      neighbors.append(n)\n",
        "  return neighbors\n"
      ],
      "metadata": {
        "id": "-T8iWRqrTP3u"
      },
      "execution_count": null,
      "outputs": []
    },
    {
      "cell_type": "code",
      "source": [
        "#calculating Manhattan distance\n",
        "def manhattan(current_node, goal_node, grid):\n",
        "    print(\"current node\", current_node.location)\n",
        "\n",
        "    x1, y1 = current_node.location.x, current_node.location.y\n",
        "    x2, y2 = goal_node.location.x, goal_node.location.y\n",
        "\n",
        "    # Manhattan distance, considering blocked cells\n",
        "    dist = 0\n",
        "    dx = abs(x2 - x1)\n",
        "    dy = abs(y2 - y1)\n",
        "    if x1 < x2:\n",
        "        for x in range(x1, x2):\n",
        "            if grid[x][y1] == 1:\n",
        "                dist += 1\n",
        "    else:\n",
        "        for x in range(x2, x1):\n",
        "            if grid[x][y1] == 1:\n",
        "                dist += 1\n",
        "\n",
        "    if y1 < y2:\n",
        "        for y in range(y1, y2):\n",
        "            if grid[x2][y] == 1:\n",
        "                dist += 1\n",
        "    else:\n",
        "        for y in range(y2, y1):\n",
        "            if grid[x2][y] == 1:\n",
        "                dist += 1\n",
        "\n",
        "    return dist + dx + dy\n",
        "\n",
        "#calculating heuristic\n",
        "def heuristic(agent, packages):\n",
        "    _agent = agents[agent]\n",
        "    start = _agent['start']\n",
        "    end = _agent['end']\n",
        "\n",
        "    heuristics = {}\n",
        "    for _p in packages:\n",
        "        p = packages[_p]\n",
        "        pstart = p['start']\n",
        "        pend = p['end']\n",
        "        path = [start, pstart, pend, end]\n",
        "        dist = manhattan(path[0], path[1], grid) + manhattan(path[1], path[2], grid) + manhattan(path[2], path[3], grid)\n",
        "        heuristics.update({_p : dist})\n",
        "\n",
        "    package = min(heuristics, key=heuristics.get)\n",
        "    min_heuristic = heuristics[package]\n",
        "    return package, min_heuristic"
      ],
      "metadata": {
        "id": "piK8oQAoTU9M"
      },
      "execution_count": null,
      "outputs": []
    },
    {
      "cell_type": "code",
      "source": [
        "def isGoal(current, agent):\n",
        "  print(\"is goal\",agent)"
      ],
      "metadata": {
        "id": "znrSYgWzTXKL"
      },
      "execution_count": null,
      "outputs": []
    },
    {
      "cell_type": "code",
      "source": [
        "# A* search\n",
        "def search(agent):\n",
        "  print(\"befor initial state\", agent)\n",
        "  initial_state = agents[agent][\"start\"]\n",
        "  print(\"after initial state\", initial_state.time, initial_state.location)\n",
        "  step_cost = 1\n",
        "\n",
        "  closed_set = set()\n",
        "  open_set = {initial_state}\n",
        "\n",
        "  came_from = {}\n",
        "\n",
        "  g_score = {}\n",
        "  g_score[initial_state] = 0\n",
        "\n",
        "  f_score = {}\n",
        "  package, min_heuristc = heuristic(agent, packages)\n",
        "  f_score[initial_state] = {min_heuristc : package}\n",
        "\n",
        "  while open_set:\n",
        "    temp_dict = {open_item:f_score.setdefault(open_item, float(\"inf\")) for open_item in open_set}\n",
        "    current = min(temp_dict, key=temp_dict.get)\n",
        "\n",
        "    print(\"temp_dict\", temp_dict)\n",
        "    print(\"current min\", current)\n",
        "\n",
        "    if isGoal(current, agent):\n",
        "        return constructPath(came_from, current)\n",
        "\n",
        "    open_set -= {current}\n",
        "    closed_set |= {current}\n",
        "\n",
        "    neighbor_list = get_successors(current)\n",
        "\n",
        "    for neighbor in neighbor_list:\n",
        "      if neighbor in closed_set:\n",
        "          continue\n",
        "\n",
        "    # calculate g_score and f_score for all neighbour\n",
        "  return False"
      ],
      "metadata": {
        "id": "7h4QV8ppTaOi"
      },
      "execution_count": null,
      "outputs": []
    },
    {
      "cell_type": "code",
      "source": [
        "def calculate_solution():\n",
        "        solution = {}\n",
        "        for agent in agents.keys():\n",
        "            _a = agents[agent]\n",
        "            start = State(0, _a[\"start\"])\n",
        "            end = State(0, _a[\"end\"])\n",
        "\n",
        "            agents[agent] = {\"start\" : start, \"end\" : end}\n",
        "            local_solution = search(agent)\n",
        "            print(\"local solution\")\n",
        "            print(local_solution)\n",
        "            if not local_solution:\n",
        "                return False\n",
        "            solution.update({agent:local_solution})\n",
        "        return solution\n",
        "\n",
        "def total_cost(self, solution):\n",
        "    return sum([len(path) for path in solution.values()])"
      ],
      "metadata": {
        "id": "9wdLEA3oUCOB"
      },
      "execution_count": null,
      "outputs": []
    },
    {
      "cell_type": "code",
      "source": [
        "class Conflict():\n",
        "  def __init__(self, time, agent1, agent2):\n",
        "    self.time = time\n",
        "    self.agent1 = agent1\n",
        "    self.agent2 = agent2\n",
        "\n",
        "def get_conflict():\n",
        "  pass"
      ],
      "metadata": {
        "id": "fsFTuKZRUE2L"
      },
      "execution_count": null,
      "outputs": []
    },
    {
      "cell_type": "code",
      "source": [
        "solutions = {}\n",
        "Constraints = {}\n",
        "cost = 0\n",
        "\n",
        "class AgentNode():\n",
        "   def __init__(self):\n",
        "    self.solution = {}\n",
        "    self.constraint_dict = {}\n",
        "    self.cost = 0\n",
        "\n",
        "class CBS:\n",
        "  def __init__(self):\n",
        "    self.open_set = set()\n",
        "    self.closed_set = set()\n",
        "#low level search\n",
        "  def search(self):\n",
        "    rootNode = AgentNode()\n",
        "    rootNode.constraint_dict = {}\n",
        "    for a in agents.keys():\n",
        "       rootNode.constraint_dict[a] = {}\n",
        "    solutions = calculate_solution() # try to calculate solution for all possible options\n",
        "    print(solutions)\n",
        "    if not solutions:\n",
        "        return {}\n",
        "    cost = total_cost(solutions)\n",
        "\n",
        "#high level search\n",
        "    self.open_set |= {rootNode}\n",
        "\n",
        "    print(self.open_set)\n",
        "\n",
        "    while self.open_set:\n",
        "       # find conflicts and resolve"
      ],
      "metadata": {
        "id": "Ga1Wljg1UGgb"
      },
      "execution_count": null,
      "outputs": []
    },
    {
      "cell_type": "code",
      "source": [
        "cbs = CBS()\n",
        "solution = cbs.search()"
      ],
      "metadata": {
        "id": "12z14FfhUSw1"
      },
      "execution_count": null,
      "outputs": []
    }
  ]
}